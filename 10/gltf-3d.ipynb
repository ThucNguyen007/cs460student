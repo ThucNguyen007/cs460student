{
 "metadata": {
  "language_info": {
   "codemirror_mode": {
    "name": "ipython",
    "version": 3
   },
   "file_extension": ".py",
   "mimetype": "text/x-python",
   "name": "python",
   "nbconvert_exporter": "python",
   "pygments_lexer": "ipython3",
   "version": "3.8.2-final"
  },
  "orig_nbformat": 2,
  "kernelspec": {
   "name": "python38264bit8857d1aef56f4d0ebb609cc06a32d55b",
   "display_name": "Python 3.8.2 64-bit"
  }
 },
 "nbformat": 4,
 "nbformat_minor": 2,
 "cells": [
  {
   "cell_type": "code",
   "execution_count": 16,
   "metadata": {},
   "outputs": [],
   "source": [
    "import numpy as np\n",
    "import base64"
   ]
  },
  {
   "cell_type": "code",
   "execution_count": 18,
   "metadata": {},
   "outputs": [],
   "source": [
    "# https://tutorial.eyehunts.com/python/python-read-file-line-by-line-readlines/\n",
    "with open(\"yoda.gltf\", 'r') as yoda:\n",
    "    lines = yoda.readlines()\n",
    "\n",
    "counter = 0\n",
    "vertices_coming = False\n",
    "faces_coming = False\n",
    "vertex_data = []\n",
    "face_data = []"
   ]
  },
  {
   "cell_type": "code",
   "execution_count": 22,
   "metadata": {},
   "outputs": [],
   "source": [
    "# https://realpython.com/python-enumerate/\n",
    "for i,l in enumerate(lines):\n",
    "    if not l:\n",
    "        continue\n",
    "    if l.startswith('element vertex'):\n",
    "        vertexcounter = int(l.split(' ')[-1].strip())\n",
    "        vertex_data = lines[i+1:i+vertexcounter+1]\n",
    "        continue\n",
    "    elif l.startswith('element face'):\n",
    "        facecounter = int(l.split(' ')[-1].strip())\n",
    "        face_data = lines[i+facecounter+1:]\n",
    "        continue\n",
    "    elif l.startswith('end header'):\n",
    "        break"
   ]
  },
  {
   "cell_type": "code",
   "execution_count": 23,
   "metadata": {},
   "outputs": [],
   "source": [
    "VERTICES = []\n",
    "MAX_X = -np.inf\n",
    "MAX_Y = -np.inf\n",
    "MAX_Z = -np.inf\n",
    "MIN_X = np.inf\n",
    "MIN_Y = np.inf\n",
    "MIN_Z = np.inf"
   ]
  },
  {
   "cell_type": "code",
   "execution_count": 24,
   "metadata": {},
   "outputs": [],
   "source": [
    "for v in vertex_data:\n",
    "    v = [float(v.strip()) for v in v.strip().split(' ')]\n",
    "    MAX_X = max(MAX_X, v[0])\n",
    "    MAX_Y = max(MAX_Y, v[1])\n",
    "    MAX_Z = max(MAX_Z, v[2])\n",
    "    MIN_X = min(MIN_X, v[0])\n",
    "    MIN_Y = min(MIN_Y, v[1])\n",
    "    MIN_Z = min(MIN_Z, v[2])    \n",
    "\n",
    "    VERTICES += v"
   ]
  },
  {
   "cell_type": "code",
   "execution_count": 25,
   "metadata": {},
   "outputs": [],
   "source": [
    "INDICES = []\n",
    "MAX = -np.inf\n",
    "MIN = np.inf\n",
    "for i in face_data:\n",
    "    i = [int(i) for i in i.strip().split(' ')[1:]]\n",
    "    INDICES += i\n",
    "\n",
    "    MAX = max(MAX, i[0])\n",
    "    MAX = max(MAX, i[1])\n",
    "    MAX = max(MAX, i[2])\n",
    "    MIN = min(MIN, i[0])\n",
    "    MIN = min(MIN, i[1])\n",
    "    MIN = min(MIN, i[2])"
   ]
  },
  {
   "cell_type": "code",
   "execution_count": 27,
   "metadata": {},
   "outputs": [],
   "source": [
    "VERTICES = np.array(VERTICES, dtype=np.float32)\n",
    "INDICES = np.array(INDICES, dtype=np.ushort)\n",
    "\n",
    "HOWMANY_V = len(VERTICES) / 3 # because its the number of VEC3 groups\n",
    "HOWMANY_I = len(INDICES)\n",
    "\n",
    "HOWMANYBYTES_V = VERTICES.nbytes\n",
    "HOWMANYBYTES_I = INDICES.nbytes\n",
    "\n",
    "B64_VERTICES = base64.b64encode(VERTICES)\n",
    "B64_INDICES = base64.b64encode(INDICES)"
   ]
  },
  {
   "cell_type": "code",
   "execution_count": 31,
   "metadata": {},
   "outputs": [],
   "source": [
    "gltf = {\n",
    "    \"asset\": {\n",
    "        \"version\": \"2.0\",\n",
    "        \"generator\": \"CS460 GLTF-LOADER\"\n",
    "    },\n",
    "\n",
    "  \"accessors\": [\n",
    "        {\n",
    "            \"bufferView\": 0,\n",
    "            \"byteOffset\": 0,\n",
    "            \"componentType\": 5126,\n",
    "            \"count\": HOWMANY_V,\n",
    "            \"type\": \"VEC3\",\n",
    "            \"max\": [MAX_X, MAX_Y, MAX_Z],\n",
    "            \"min\": [MIN_X, MIN_Y, MIN_Z]\n",
    "        },\n",
    "        {\n",
    "            \"bufferView\": 1,\n",
    "            \"byteOffset\": 0,\n",
    "            \"componentType\": 5123,\n",
    "            \"count\": HOWMANY_I,\n",
    "            \"type\": \"SCALAR\",\n",
    "            \"max\": [MAX],\n",
    "            \"min\": [MIN]\n",
    "        }\n",
    "    ], \n",
    "\n",
    "    \"bufferViews\": [\n",
    "        {\n",
    "            \"buffer\": 0,\n",
    "            \"byteOffset\": 0,\n",
    "            \"byteLength\": HOWMANYBYTES_V,\n",
    "            \"target\": 34962\n",
    "        },\n",
    "        {\n",
    "            \"buffer\": 1,\n",
    "            \"byteOffset\": 0,\n",
    "            \"byteLength\": HOWMANYBYTES_I,\n",
    "            \"target\": 34963\n",
    "        }\n",
    "    ],\n",
    "    \n",
    "    \"buffers\": [\n",
    "        {\n",
    "            \"uri\": \"data:application/octet-stream;base64,\"+str(B64_VERTICES, 'utf-8'),\n",
    "            \"byteLength\": HOWMANYBYTES_V\n",
    "        },\n",
    "        {\n",
    "            \"uri\": \"data:application/octet-stream;base64,\"+str(B64_INDICES, 'utf-8'),\n",
    "            \"byteLength\": HOWMANYBYTES_I\n",
    "        }\n",
    "    ],\n",
    "  \n",
    "    \"meshes\": [\n",
    "        {\n",
    "            \"primitives\": [{\n",
    "                 \"mode\": 4,\n",
    "                 \"attributes\": {\n",
    "                     \"POSITION\": 0\n",
    "                 },\n",
    "                 \"indices\": 1\n",
    "            }]\n",
    "        }\n",
    "    ],\n",
    "\n",
    "    \"nodes\": [\n",
    "        {\n",
    "            \"mesh\": 0\n",
    "        }\n",
    "    ],\n",
    "\n",
    "    \"scenes\": [\n",
    "        {\n",
    "            \"nodes\": [\n",
    "                0\n",
    "            ]\n",
    "        }\n",
    "    ],\n",
    "\n",
    "    \"scene\": 0\n",
    "}"
   ]
  },
  {
   "cell_type": "code",
   "execution_count": 32,
   "metadata": {},
   "outputs": [
    {
     "output_type": "stream",
     "name": "stdout",
     "text": [
      "{\"asset\": {\"version\": \"2.0\", \"generator\": \"CS460 GLTF-LOADER\"}, \"accessors\": [{\"bufferView\": 0, \"byteOffset\": 0, \"componentType\": 5126, \"count\": 0.0, \"type\": \"VEC3\", \"max\": [-inf, -inf, -inf], \"min\": [inf, inf, inf]}, {\"bufferView\": 1, \"byteOffset\": 0, \"componentType\": 5123, \"count\": 0, \"type\": \"SCALAR\", \"max\": [-inf], \"min\": [inf]}], \"bufferViews\": [{\"buffer\": 0, \"byteOffset\": 0, \"byteLength\": 0, \"target\": 34962}, {\"buffer\": 1, \"byteOffset\": 0, \"byteLength\": 0, \"target\": 34963}], \"buffers\": [{\"uri\": \"data:application/octet-stream;base64,\", \"byteLength\": 0}, {\"uri\": \"data:application/octet-stream;base64,\", \"byteLength\": 0}], \"meshes\": [{\"primitives\": [{\"mode\": 4, \"attributes\": {\"POSITION\": 0}, \"indices\": 1}]}], \"nodes\": [{\"mesh\": 0}], \"scenes\": [{\"nodes\": [0]}], \"scene\": 0}\n"
     ]
    }
   ],
   "source": [
    "# we need double quotes instead of single quotes\n",
    "print ( str(gltf).replace(\"'\", '\"') ) "
   ]
  },
  {
   "cell_type": "code",
   "execution_count": null,
   "metadata": {},
   "outputs": [],
   "source": []
  }
 ]
}